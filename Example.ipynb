{
 "cells": [
  {
   "cell_type": "code",
   "execution_count": 1,
   "metadata": {},
   "outputs": [],
   "source": [
    "# Import packages\n",
    "import random # Used to generate random numbers to fit into \n",
    "import copy "
   ]
  },
  {
   "cell_type": "code",
   "execution_count": 89,
   "metadata": {},
   "outputs": [],
   "source": [
    "class SudokuSolver:\n",
    "    def __init__(self, size = 9, subgrid_size=3):\n",
    "        self.size = size\n",
    "        self.subgrid_size = subgrid_size\n",
    "        self.grid = [[0] * size for _ in range(size)]\n",
    "        self.placement_count = 0  # Counter for placements\n",
    "\n",
    "    # First, print the grid to see what happens\n",
    "    def print_grid(self):\n",
    "        for row in self.grid:\n",
    "            print(\" \".join(map(str, row)))\n",
    "\n",
    "    def print_puzzle(self):\n",
    "        for row in self.puzzle:\n",
    "            print(\" \".join(map(str, row)))\n",
    "\n",
    "    # Finding an empty spot, iterating through grid to find a 0, returning the empty one\n",
    "    def find_empty(self):\n",
    "        for i in range(self.size):\n",
    "            for j in range(self.size):\n",
    "                if self.grid[i][j] == 0:\n",
    "                    return i, j\n",
    "        return None\n",
    "    \n",
    "    def is_valid(self, row, col, num):\n",
    "        # If the number is in the row or column, return false\n",
    "        for i in range(self.size):\n",
    "            if self.grid[row][i] == num or self.grid[i][col] == num:\n",
    "                return False\n",
    "               \n",
    "        # Figure out if the number is in the subgrid\n",
    "        start_row = (row // self.subgrid_size) * self.subgrid_size\n",
    "        start_col = (col // self.subgrid_size) * self.subgrid_size\n",
    "        for i in range(self.subgrid_size):\n",
    "            for j in range(self.subgrid_size):\n",
    "                if self.grid[start_row + i][start_col + j] == num:\n",
    "                    return False\n",
    "        \n",
    "        return True  \n",
    "          \n",
    "    def create_grid(self):\n",
    "        empty = self.find_empty()\n",
    "\n",
    "        if not empty:\n",
    "            return True\n",
    "\n",
    "        row, col = empty\n",
    "        for num in random.sample(range(1, self.size + 1), self.size): #Random sampling to ensure random placement of numbers.\n",
    "            if self.is_valid(row, col, num):\n",
    "                self.grid[row][col] = num\n",
    "                if self.create_grid():\n",
    "                    return True\n",
    "                self.grid[row][col] = 0\n",
    "        return False\n",
    "    \n",
    "    def generate_full_grid(self):\n",
    "        self.create_grid()\n",
    "        return copy.deepcopy(self.grid)  # Return a copy of the full grid\n",
    "\n",
    "    def is_valid_puzzle(self, row, col, num):\n",
    "        # If the number is in the row or column, return false\n",
    "        for i in range(self.size):\n",
    "            if self.puzzle[row][i] == num or self.puzzle[i][col] == num:\n",
    "                return False\n",
    "               \n",
    "        # Figure out if the number is in the subgrid\n",
    "        start_row = (row // self.subgrid_size) * self.subgrid_size\n",
    "        start_col = (col // self.subgrid_size) * self.subgrid_size\n",
    "        for i in range(self.subgrid_size):\n",
    "            for j in range(self.subgrid_size):\n",
    "                if self.puzzle[start_row + i][start_col + j] == num:\n",
    "                    return False\n",
    "        \n",
    "        return True  \n",
    "\n",
    "    def remove_numbers(self, difficulty=10):\n",
    "        self.puzzle = copy.deepcopy(self.grid)\n",
    "        number_removed = 0\n",
    "        while number_removed < difficulty:\n",
    "            row, col = random.randint(0, 8), random.randint(0, 8)\n",
    "            while self.puzzle[row][col] == 0:\n",
    "                row, col = random.randint(0, 8), random.randint(0, 8)\n",
    "            original = self.puzzle[row][col]\n",
    "            self.puzzle[row][col] = 0\n",
    "            solution = 0\n",
    "            # iterate through numbers\n",
    "            for i in range(self.size):\n",
    "                if self.is_valid_puzzle(row, col, i):\n",
    "                    solution += 1\n",
    "            if solution == 1:\n",
    "                number_removed += 1     \n",
    "            else:\n",
    "                self.puzzle[row][col] = original\n",
    "    \n",
    "\n"
   ]
  },
  {
   "cell_type": "code",
   "execution_count": 90,
   "metadata": {},
   "outputs": [
    {
     "name": "stdout",
     "output_type": "stream",
     "text": [
      "5 6 1 9 7 4 3 8 2\n",
      "4 9 8 5 3 2 6 7 1\n",
      "2 7 3 1 8 6 5 4 9\n",
      "6 8 7 3 4 1 2 9 5\n",
      "3 1 5 2 9 8 4 6 7\n",
      "9 4 2 7 6 5 1 3 8\n",
      "7 5 9 4 2 3 8 1 6\n",
      "1 3 6 8 5 9 7 2 4\n",
      "8 2 4 6 1 7 9 5 3\n"
     ]
    }
   ],
   "source": [
    "sudoku = SudokuSolver()\n",
    "sudoku.generate_full_grid()\n",
    "sudoku.print_grid()"
   ]
  },
  {
   "cell_type": "code",
   "execution_count": 96,
   "metadata": {},
   "outputs": [
    {
     "ename": "KeyboardInterrupt",
     "evalue": "",
     "output_type": "error",
     "traceback": [
      "\u001b[0;31m---------------------------------------------------------------------------\u001b[0m",
      "\u001b[0;31mKeyboardInterrupt\u001b[0m                         Traceback (most recent call last)",
      "Cell \u001b[0;32mIn[96], line 1\u001b[0m\n\u001b[0;32m----> 1\u001b[0m \u001b[43msudoku\u001b[49m\u001b[38;5;241;43m.\u001b[39;49m\u001b[43mremove_numbers\u001b[49m\u001b[43m(\u001b[49m\u001b[43mdifficulty\u001b[49m\u001b[38;5;241;43m=\u001b[39;49m\u001b[38;5;241;43m70\u001b[39;49m\u001b[43m)\u001b[49m\n\u001b[1;32m      2\u001b[0m sudoku\u001b[38;5;241m.\u001b[39mprint_puzzle()\n",
      "Cell \u001b[0;32mIn[89], line 88\u001b[0m, in \u001b[0;36mSudokuSolver.remove_numbers\u001b[0;34m(self, difficulty)\u001b[0m\n\u001b[1;32m     86\u001b[0m \u001b[38;5;66;03m# iterate through numbers\u001b[39;00m\n\u001b[1;32m     87\u001b[0m \u001b[38;5;28;01mfor\u001b[39;00m i \u001b[38;5;129;01min\u001b[39;00m \u001b[38;5;28mrange\u001b[39m(\u001b[38;5;28mself\u001b[39m\u001b[38;5;241m.\u001b[39msize):\n\u001b[0;32m---> 88\u001b[0m     \u001b[38;5;28;01mif\u001b[39;00m \u001b[38;5;28;43mself\u001b[39;49m\u001b[38;5;241;43m.\u001b[39;49m\u001b[43mis_valid_puzzle\u001b[49m\u001b[43m(\u001b[49m\u001b[43mrow\u001b[49m\u001b[43m,\u001b[49m\u001b[43m \u001b[49m\u001b[43mcol\u001b[49m\u001b[43m,\u001b[49m\u001b[43m \u001b[49m\u001b[43mi\u001b[49m\u001b[43m)\u001b[49m:\n\u001b[1;32m     89\u001b[0m         solution \u001b[38;5;241m+\u001b[39m\u001b[38;5;241m=\u001b[39m \u001b[38;5;241m1\u001b[39m\n\u001b[1;32m     90\u001b[0m \u001b[38;5;28;01mif\u001b[39;00m solution \u001b[38;5;241m==\u001b[39m \u001b[38;5;241m1\u001b[39m:\n",
      "Cell \u001b[0;32mIn[89], line 63\u001b[0m, in \u001b[0;36mSudokuSolver.is_valid_puzzle\u001b[0;34m(self, row, col, num)\u001b[0m\n\u001b[1;32m     60\u001b[0m \u001b[38;5;28;01mdef\u001b[39;00m\u001b[38;5;250m \u001b[39m\u001b[38;5;21mis_valid_puzzle\u001b[39m(\u001b[38;5;28mself\u001b[39m, row, col, num):\n\u001b[1;32m     61\u001b[0m     \u001b[38;5;66;03m# If the number is in the row or column, return false\u001b[39;00m\n\u001b[1;32m     62\u001b[0m     \u001b[38;5;28;01mfor\u001b[39;00m i \u001b[38;5;129;01min\u001b[39;00m \u001b[38;5;28mrange\u001b[39m(\u001b[38;5;28mself\u001b[39m\u001b[38;5;241m.\u001b[39msize):\n\u001b[0;32m---> 63\u001b[0m         \u001b[38;5;28;01mif\u001b[39;00m \u001b[38;5;28;43mself\u001b[39;49m\u001b[38;5;241;43m.\u001b[39;49m\u001b[43mpuzzle\u001b[49m[row][i] \u001b[38;5;241m==\u001b[39m num \u001b[38;5;129;01mor\u001b[39;00m \u001b[38;5;28mself\u001b[39m\u001b[38;5;241m.\u001b[39mpuzzle[i][col] \u001b[38;5;241m==\u001b[39m num:\n\u001b[1;32m     64\u001b[0m             \u001b[38;5;28;01mreturn\u001b[39;00m \u001b[38;5;28;01mFalse\u001b[39;00m\n\u001b[1;32m     66\u001b[0m     \u001b[38;5;66;03m# Figure out if the number is in the subgrid\u001b[39;00m\n",
      "\u001b[0;31mKeyboardInterrupt\u001b[0m: "
     ]
    }
   ],
   "source": [
    "sudoku.remove_numbers(difficulty=70)\n",
    "sudoku.print_puzzle()"
   ]
  },
  {
   "cell_type": "code",
   "execution_count": null,
   "metadata": {},
   "outputs": [
    {
     "ename": "KeyboardInterrupt",
     "evalue": "",
     "output_type": "error",
     "traceback": [
      "\u001b[0;31m---------------------------------------------------------------------------\u001b[0m",
      "\u001b[0;31mKeyboardInterrupt\u001b[0m                         Traceback (most recent call last)",
      "Cell \u001b[0;32mIn[47], line 1\u001b[0m\n\u001b[0;32m----> 1\u001b[0m \u001b[43msudoku\u001b[49m\u001b[38;5;241;43m.\u001b[39;49m\u001b[43mremove_numbers_2\u001b[49m\u001b[43m(\u001b[49m\u001b[43mdifficulty\u001b[49m\u001b[38;5;241;43m=\u001b[39;49m\u001b[38;5;241;43m30\u001b[39;49m\u001b[43m)\u001b[49m\n\u001b[1;32m      2\u001b[0m sudoku\u001b[38;5;241m.\u001b[39mprint_puzzle()\n",
      "Cell \u001b[0;32mIn[41], line 101\u001b[0m, in \u001b[0;36mSudokuSolver.remove_numbers_2\u001b[0;34m(self, difficulty)\u001b[0m\n\u001b[1;32m     99\u001b[0m row, col \u001b[38;5;241m=\u001b[39m random\u001b[38;5;241m.\u001b[39mrandint(\u001b[38;5;241m0\u001b[39m, \u001b[38;5;241m8\u001b[39m), random\u001b[38;5;241m.\u001b[39mrandint(\u001b[38;5;241m0\u001b[39m, \u001b[38;5;241m8\u001b[39m)\n\u001b[1;32m    100\u001b[0m \u001b[38;5;28;01mwhile\u001b[39;00m \u001b[38;5;28mself\u001b[39m\u001b[38;5;241m.\u001b[39mpuzzle[row][col] \u001b[38;5;241m==\u001b[39m \u001b[38;5;241m0\u001b[39m:\n\u001b[0;32m--> 101\u001b[0m     row, col \u001b[38;5;241m=\u001b[39m \u001b[43mrandom\u001b[49m\u001b[38;5;241;43m.\u001b[39;49m\u001b[43mrandint\u001b[49m\u001b[43m(\u001b[49m\u001b[38;5;241;43m0\u001b[39;49m\u001b[43m,\u001b[49m\u001b[43m \u001b[49m\u001b[38;5;241;43m8\u001b[39;49m\u001b[43m)\u001b[49m, random\u001b[38;5;241m.\u001b[39mrandint(\u001b[38;5;241m0\u001b[39m, \u001b[38;5;241m8\u001b[39m)\n\u001b[1;32m    102\u001b[0m original \u001b[38;5;241m=\u001b[39m \u001b[38;5;28mself\u001b[39m\u001b[38;5;241m.\u001b[39mpuzzle[row][col]\n\u001b[1;32m    103\u001b[0m \u001b[38;5;28mself\u001b[39m\u001b[38;5;241m.\u001b[39mpuzzle[row][col] \u001b[38;5;241m=\u001b[39m \u001b[38;5;241m0\u001b[39m\n",
      "File \u001b[0;32m~/miniconda3/envs/sudoku/lib/python3.9/random.py:338\u001b[0m, in \u001b[0;36mRandom.randint\u001b[0;34m(self, a, b)\u001b[0m\n\u001b[1;32m    334\u001b[0m \u001b[38;5;28;01mdef\u001b[39;00m\u001b[38;5;250m \u001b[39m\u001b[38;5;21mrandint\u001b[39m(\u001b[38;5;28mself\u001b[39m, a, b):\n\u001b[1;32m    335\u001b[0m \u001b[38;5;250m    \u001b[39m\u001b[38;5;124;03m\"\"\"Return random integer in range [a, b], including both end points.\u001b[39;00m\n\u001b[1;32m    336\u001b[0m \u001b[38;5;124;03m    \"\"\"\u001b[39;00m\n\u001b[0;32m--> 338\u001b[0m     \u001b[38;5;28;01mreturn\u001b[39;00m \u001b[38;5;28;43mself\u001b[39;49m\u001b[38;5;241;43m.\u001b[39;49m\u001b[43mrandrange\u001b[49m\u001b[43m(\u001b[49m\u001b[43ma\u001b[49m\u001b[43m,\u001b[49m\u001b[43m \u001b[49m\u001b[43mb\u001b[49m\u001b[38;5;241;43m+\u001b[39;49m\u001b[38;5;241;43m1\u001b[39;49m\u001b[43m)\u001b[49m\n",
      "File \u001b[0;32m~/miniconda3/envs/sudoku/lib/python3.9/random.py:314\u001b[0m, in \u001b[0;36mRandom.randrange\u001b[0;34m(self, start, stop, step)\u001b[0m\n\u001b[1;32m    312\u001b[0m width \u001b[38;5;241m=\u001b[39m istop \u001b[38;5;241m-\u001b[39m istart\n\u001b[1;32m    313\u001b[0m \u001b[38;5;28;01mif\u001b[39;00m step \u001b[38;5;241m==\u001b[39m \u001b[38;5;241m1\u001b[39m \u001b[38;5;129;01mand\u001b[39;00m width \u001b[38;5;241m>\u001b[39m \u001b[38;5;241m0\u001b[39m:\n\u001b[0;32m--> 314\u001b[0m     \u001b[38;5;28;01mreturn\u001b[39;00m istart \u001b[38;5;241m+\u001b[39m \u001b[38;5;28;43mself\u001b[39;49m\u001b[38;5;241;43m.\u001b[39;49m\u001b[43m_randbelow\u001b[49m\u001b[43m(\u001b[49m\u001b[43mwidth\u001b[49m\u001b[43m)\u001b[49m\n\u001b[1;32m    315\u001b[0m \u001b[38;5;28;01mif\u001b[39;00m step \u001b[38;5;241m==\u001b[39m \u001b[38;5;241m1\u001b[39m:\n\u001b[1;32m    316\u001b[0m     \u001b[38;5;28;01mraise\u001b[39;00m \u001b[38;5;167;01mValueError\u001b[39;00m(\u001b[38;5;124m\"\u001b[39m\u001b[38;5;124mempty range for randrange() (\u001b[39m\u001b[38;5;132;01m%d\u001b[39;00m\u001b[38;5;124m, \u001b[39m\u001b[38;5;132;01m%d\u001b[39;00m\u001b[38;5;124m, \u001b[39m\u001b[38;5;132;01m%d\u001b[39;00m\u001b[38;5;124m)\u001b[39m\u001b[38;5;124m\"\u001b[39m \u001b[38;5;241m%\u001b[39m (istart, istop, width))\n",
      "File \u001b[0;32m~/miniconda3/envs/sudoku/lib/python3.9/random.py:242\u001b[0m, in \u001b[0;36mRandom._randbelow_with_getrandbits\u001b[0;34m(self, n)\u001b[0m\n\u001b[1;32m    240\u001b[0m \u001b[38;5;28;01mif\u001b[39;00m \u001b[38;5;129;01mnot\u001b[39;00m n:\n\u001b[1;32m    241\u001b[0m     \u001b[38;5;28;01mreturn\u001b[39;00m \u001b[38;5;241m0\u001b[39m\n\u001b[0;32m--> 242\u001b[0m getrandbits \u001b[38;5;241m=\u001b[39m \u001b[38;5;28;43mself\u001b[39;49m\u001b[38;5;241;43m.\u001b[39;49m\u001b[43mgetrandbits\u001b[49m\n\u001b[1;32m    243\u001b[0m k \u001b[38;5;241m=\u001b[39m n\u001b[38;5;241m.\u001b[39mbit_length()  \u001b[38;5;66;03m# don't use (n-1) here because n can be 1\u001b[39;00m\n\u001b[1;32m    244\u001b[0m r \u001b[38;5;241m=\u001b[39m getrandbits(k)  \u001b[38;5;66;03m# 0 <= r < 2**k\u001b[39;00m\n",
      "\u001b[0;31mKeyboardInterrupt\u001b[0m: "
     ]
    }
   ],
   "source": [
    "    def is_valid_puzzle(self, row, col, num):\n",
    "        # If the number is in the row or column, return false\n",
    "        for i in range(self.size):\n",
    "            if self.puzzle[row][i] == num or self.puzzle[i][col] == num:\n",
    "                return False\n",
    "               \n",
    "        # Figure out if the number is in the subgrid\n",
    "        start_row = (row // self.subgrid_size) * self.subgrid_size\n",
    "        start_col = (col // self.subgrid_size) * self.subgrid_size\n",
    "        for i in range(self.subgrid_size):\n",
    "            for j in range(self.subgrid_size):\n",
    "                if self.puzzle[start_row + i][start_col + j] == num:\n",
    "                    return False\n",
    "        \n",
    "        return True  \n",
    "    \n",
    "    def unique_solution(self, row, col):\n",
    "        original = self.puzzle[row][col]\n",
    "        self.puzzle[row][col] = 0\n",
    "        solution = 0\n",
    "        # iterate through numbers\n",
    "        for i in range(self.size):\n",
    "            if self.is_valid_puzzle(row, col, i):\n",
    "                solution += 1\n",
    "        if solution == 1:\n",
    "            return True\n",
    "        else:\n",
    "            return False\n",
    "\n",
    "    def remove_numbers(self, difficulty=10):\n",
    "        self.puzzle = copy.deepcopy(self.grid)\n",
    "        number_removed = 0\n",
    "    \n",
    "        non_empty_cells = [(r, c) for r in range(self.size) for c in range(self.size) if self.puzzle[r][c] != 0]\n",
    "        random.shuffle(non_empty_cells)\n",
    "\n",
    "        for row, col in non_empty_cells:\n",
    "            if number_removed == difficulty: \n",
    "                break\n",
    "\n",
    "            if self.unique_solution(row,col):\n",
    "                self.puzzle[row][col] = 0\n",
    "                number_removed += 1 \n",
    "                "
   ]
  }
 ],
 "metadata": {
  "kernelspec": {
   "display_name": "sudoku",
   "language": "python",
   "name": "python3"
  },
  "language_info": {
   "codemirror_mode": {
    "name": "ipython",
    "version": 3
   },
   "file_extension": ".py",
   "mimetype": "text/x-python",
   "name": "python",
   "nbconvert_exporter": "python",
   "pygments_lexer": "ipython3",
   "version": "3.9.21"
  }
 },
 "nbformat": 4,
 "nbformat_minor": 2
}
